{
  "nbformat": 4,
  "nbformat_minor": 0,
  "metadata": {
    "colab": {
      "name": "jalase49.ipynb",
      "provenance": [],
      "collapsed_sections": [],
      "authorship_tag": "ABX9TyMs1RKPuNi5B29Dh0KPurQL",
      "include_colab_link": true
    },
    "kernelspec": {
      "name": "python3",
      "display_name": "Python 3"
    },
    "language_info": {
      "name": "python"
    },
    "accelerator": "GPU"
  },
  "cells": [
    {
      "cell_type": "markdown",
      "metadata": {
        "id": "view-in-github",
        "colab_type": "text"
      },
      "source": [
        "<a href=\"https://colab.research.google.com/github/zahranorozzadeh/tamrin49/blob/main/jalase49.ipynb\" target=\"_parent\"><img src=\"https://colab.research.google.com/assets/colab-badge.svg\" alt=\"Open In Colab\"/></a>"
      ]
    },
    {
      "cell_type": "code",
      "metadata": {
        "id": "zchhcETL1XKL"
      },
      "source": [
        "import tensorflow as tf\n",
        "from tensorflow.keras.layers  import Dense,Flatten,Conv2D"
      ],
      "execution_count": 54,
      "outputs": []
    },
    {
      "cell_type": "code",
      "metadata": {
        "colab": {
          "base_uri": "https://localhost:8080/"
        },
        "id": "9A38kqErCpQz",
        "outputId": "709b796e-a53c-47d3-9fa0-477304e4c793"
      },
      "source": [
        "print(tf.__version__)"
      ],
      "execution_count": 55,
      "outputs": [
        {
          "output_type": "stream",
          "name": "stdout",
          "text": [
            "2.6.0\n"
          ]
        }
      ]
    },
    {
      "cell_type": "markdown",
      "metadata": {
        "id": "A37wi4A-J4CQ"
      },
      "source": [
        "#Preparev Data"
      ]
    },
    {
      "cell_type": "code",
      "metadata": {
        "id": "pUEeZcMjDhEh"
      },
      "source": [
        "mnist = tf.keras.datasets.mnist\n",
        "(x_train,y_train),(x_test,y_test) = mnist.load_data()\n",
        "x_train = x_train / 255.0\n",
        "x_test = x_test / 255.0"
      ],
      "execution_count": 56,
      "outputs": []
    },
    {
      "cell_type": "code",
      "metadata": {
        "colab": {
          "base_uri": "https://localhost:8080/"
        },
        "id": "VCqmw2Zbv1rd",
        "outputId": "53d6e1e3-545f-43bc-9d26-f74893155981"
      },
      "source": [
        "y_train[:20]"
      ],
      "execution_count": 57,
      "outputs": [
        {
          "output_type": "execute_result",
          "data": {
            "text/plain": [
              "array([5, 0, 4, 1, 9, 2, 1, 3, 1, 4, 3, 5, 3, 6, 1, 7, 2, 8, 6, 9],\n",
              "      dtype=uint8)"
            ]
          },
          "metadata": {},
          "execution_count": 57
        }
      ]
    },
    {
      "cell_type": "code",
      "metadata": {
        "colab": {
          "base_uri": "https://localhost:8080/"
        },
        "id": "zreFIn8GEhcv",
        "outputId": "4cce2fba-ce24-459b-e998-231c0d27ab30"
      },
      "source": [
        "x_train.shape"
      ],
      "execution_count": 58,
      "outputs": [
        {
          "output_type": "execute_result",
          "data": {
            "text/plain": [
              "(60000, 28, 28)"
            ]
          },
          "metadata": {},
          "execution_count": 58
        }
      ]
    },
    {
      "cell_type": "code",
      "metadata": {
        "id": "91SabHDTHqVu"
      },
      "source": [
        "#add a channels dimension\n",
        "\n",
        "x_train = x_train[...,tf.newaxis].astype(\"float32\")\n",
        "x_test = x_test[...,tf.newaxis].astype(\"float32\")"
      ],
      "execution_count": 59,
      "outputs": []
    },
    {
      "cell_type": "code",
      "metadata": {
        "colab": {
          "base_uri": "https://localhost:8080/"
        },
        "id": "LpdurCxOIMy_",
        "outputId": "d07bdf3c-dfad-4bcd-f42b-8317bd4a43da"
      },
      "source": [
        "x_train.shape"
      ],
      "execution_count": 60,
      "outputs": [
        {
          "output_type": "execute_result",
          "data": {
            "text/plain": [
              "(60000, 28, 28, 1)"
            ]
          },
          "metadata": {},
          "execution_count": 60
        }
      ]
    },
    {
      "cell_type": "code",
      "metadata": {
        "id": "su4FEnECK3Sr"
      },
      "source": [
        "train_data = tf.data.Dataset.from_tensor_slices((x_train,y_train)).shuffle(10000).batch(32)\n",
        "test_data = tf.data.Dataset.from_tensor_slices((x_test,y_test)).batch(32)"
      ],
      "execution_count": 61,
      "outputs": []
    },
    {
      "cell_type": "markdown",
      "metadata": {
        "id": "6thviRZJVx-p"
      },
      "source": [
        "#Define Model\n"
      ]
    },
    {
      "cell_type": "code",
      "metadata": {
        "id": "jnxZMJIyVxZA"
      },
      "source": [
        "class MyModel(tf.keras.Model):\n",
        "  def __init__(self,number_of_classes):\n",
        "    super().__init__()\n",
        "    self.Conv1 = Conv2D(32,(3,3), activation='relu')\n",
        "    self.Flatten = Flatten()\n",
        "    self.fc1 = Dense(128, activation = 'relu')\n",
        "    self.fc2 = Dense(number_of_classes)\n",
        "  \n",
        "  def call(self , x):\n",
        "    #x.shape = 28 * 28\n",
        "\n",
        "    y = self.Conv1(x)\n",
        "    #y.shape = 32 * 26 * 26\n",
        "\n",
        "    w = self.Flatten(y)\n",
        "    #w.shape = 1 * 21632\n",
        "\n",
        "    z = self.fc1(w)\n",
        "    #z.shape = 1 * 128\n",
        "\n",
        "    output = self.fc2(z)\n",
        "    #output.shape = 1 * 10\n",
        "\n",
        "    return output\n",
        "\n",
        "model = MyModel(10)"
      ],
      "execution_count": 62,
      "outputs": []
    },
    {
      "cell_type": "code",
      "metadata": {
        "id": "ctqIModBvBAu"
      },
      "source": [
        "loss_function = tf.keras.losses.SparseCategoricalCrossentropy(from_logits=True)\n",
        "optimizer = tf.keras.optimizers.Adam()"
      ],
      "execution_count": 63,
      "outputs": []
    },
    {
      "cell_type": "code",
      "metadata": {
        "id": "7a0G0ghq0f7z"
      },
      "source": [
        "train_loss = tf.keras.metrics.Mean(name='train_loss')\n",
        "train_acc = tf.keras.metrics.SparseCategoricalAccuracy(name = 'train_acc')\n",
        "\n",
        "\n",
        "test_loss = tf.keras.metrics.Mean(name='test_loss')\n",
        "test_acc = tf.keras.metrics.SparseCategoricalAccuracy(name = 'test_acc')"
      ],
      "execution_count": 64,
      "outputs": []
    },
    {
      "cell_type": "code",
      "metadata": {
        "id": "Noksy12A9_O7"
      },
      "source": [
        "def train_step(images,y) :\n",
        "  with tf.GradientTape() as tape:\n",
        "      y_pred = model(images,training=True)\n",
        "      loss = loss_function(y,y_pred)\n",
        "\n",
        "  #calculate gradients\n",
        "  gradients = tape.gradient(loss,model.trainable_variables)\n",
        "\n",
        "\n",
        "  #update\n",
        "  optimizer.apply_gradients(zip(gradients,model.trainable_variables))\n",
        "\n",
        "\n",
        "\n",
        "  train_loss(loss)\n",
        "  train_acc(y,y_pred)\n"
      ],
      "execution_count": 75,
      "outputs": []
    },
    {
      "cell_type": "code",
      "metadata": {
        "id": "p4DiRILRiIgs"
      },
      "source": [
        "def test_step(images, y):\n",
        "  y_pred = model(images, training = False)\n",
        "  loss = loss_function(y,y_pred)\n",
        "\n",
        "  test_loss(loss)\n",
        "  test_acc(y,y_pred)"
      ],
      "execution_count": 76,
      "outputs": []
    },
    {
      "cell_type": "code",
      "metadata": {
        "id": "QUwPuiNankc6"
      },
      "source": [
        "from tqdm import tqdm "
      ],
      "execution_count": 77,
      "outputs": []
    },
    {
      "cell_type": "code",
      "metadata": {
        "id": "xgXsyQDs-K45"
      },
      "source": [
        "def train():\n",
        "  epochs = 5\n",
        "  for epoch in  range(epochs):\n",
        "      train_loss.reset_states()\n",
        "      train_acc.reset_states()\n",
        "      test_loss.reset_states()\n",
        "      test_acc.reset_states()\n",
        "\n",
        "      for images,labels in tqdm(train_data):\n",
        "         train_step(images,labels)\n",
        "      for images,labels in tqdm(test_data):\n",
        "          test_step(images,labels)\n",
        "\n",
        "      print('epoch:', epoch + 1)\n",
        "      print('loss:', train_loss.result())\n",
        "      print('accuracy:',train_acc.result())\n",
        "      print('val loss:',test_loss.result())\n",
        "      print('val accuracy:',test_acc.result())"
      ],
      "execution_count": 78,
      "outputs": []
    },
    {
      "cell_type": "code",
      "metadata": {
        "colab": {
          "base_uri": "https://localhost:8080/"
        },
        "id": "3zJxRQjXXvk9",
        "outputId": "96201c47-5478-4682-f825-9f3d9abf2f94"
      },
      "source": [
        "#fit\n",
        "train()"
      ],
      "execution_count": 79,
      "outputs": [
        {
          "output_type": "stream",
          "name": "stderr",
          "text": [
            "100%|██████████| 1875/1875 [00:30<00:00, 61.41it/s]\n",
            "100%|██████████| 313/313 [00:02<00:00, 114.61it/s]\n"
          ]
        },
        {
          "output_type": "stream",
          "name": "stdout",
          "text": [
            "epoch: 1\n",
            "loss: tf.Tensor(0.13492651, shape=(), dtype=float32)\n",
            "accuracy: tf.Tensor(0.95951664, shape=(), dtype=float32)\n",
            "val loss: tf.Tensor(0.064073384, shape=(), dtype=float32)\n",
            "val accuracy: tf.Tensor(0.9794, shape=(), dtype=float32)\n"
          ]
        },
        {
          "output_type": "stream",
          "name": "stderr",
          "text": [
            "100%|██████████| 1875/1875 [00:30<00:00, 62.28it/s]\n",
            "100%|██████████| 313/313 [00:02<00:00, 117.39it/s]\n"
          ]
        },
        {
          "output_type": "stream",
          "name": "stdout",
          "text": [
            "epoch: 2\n",
            "loss: tf.Tensor(0.041393403, shape=(), dtype=float32)\n",
            "accuracy: tf.Tensor(0.9873833, shape=(), dtype=float32)\n",
            "val loss: tf.Tensor(0.052217543, shape=(), dtype=float32)\n",
            "val accuracy: tf.Tensor(0.9822, shape=(), dtype=float32)\n"
          ]
        },
        {
          "output_type": "stream",
          "name": "stderr",
          "text": [
            "100%|██████████| 1875/1875 [00:30<00:00, 61.97it/s]\n",
            "100%|██████████| 313/313 [00:02<00:00, 113.75it/s]\n"
          ]
        },
        {
          "output_type": "stream",
          "name": "stdout",
          "text": [
            "epoch: 3\n",
            "loss: tf.Tensor(0.021909874, shape=(), dtype=float32)\n",
            "accuracy: tf.Tensor(0.9932, shape=(), dtype=float32)\n",
            "val loss: tf.Tensor(0.053558093, shape=(), dtype=float32)\n",
            "val accuracy: tf.Tensor(0.9836, shape=(), dtype=float32)\n"
          ]
        },
        {
          "output_type": "stream",
          "name": "stderr",
          "text": [
            "100%|██████████| 1875/1875 [00:30<00:00, 61.11it/s]\n",
            "100%|██████████| 313/313 [00:02<00:00, 114.98it/s]\n"
          ]
        },
        {
          "output_type": "stream",
          "name": "stdout",
          "text": [
            "epoch: 4\n",
            "loss: tf.Tensor(0.014073599, shape=(), dtype=float32)\n",
            "accuracy: tf.Tensor(0.9953667, shape=(), dtype=float32)\n",
            "val loss: tf.Tensor(0.056068268, shape=(), dtype=float32)\n",
            "val accuracy: tf.Tensor(0.9833, shape=(), dtype=float32)\n"
          ]
        },
        {
          "output_type": "stream",
          "name": "stderr",
          "text": [
            "100%|██████████| 1875/1875 [00:30<00:00, 61.92it/s]\n",
            "100%|██████████| 313/313 [00:02<00:00, 113.42it/s]"
          ]
        },
        {
          "output_type": "stream",
          "name": "stdout",
          "text": [
            "epoch: 5\n",
            "loss: tf.Tensor(0.008844411, shape=(), dtype=float32)\n",
            "accuracy: tf.Tensor(0.99693334, shape=(), dtype=float32)\n",
            "val loss: tf.Tensor(0.06883855, shape=(), dtype=float32)\n",
            "val accuracy: tf.Tensor(0.9831, shape=(), dtype=float32)\n"
          ]
        },
        {
          "output_type": "stream",
          "name": "stderr",
          "text": [
            "\n"
          ]
        }
      ]
    },
    {
      "cell_type": "code",
      "metadata": {
        "id": "kUDuLkHZ13eG"
      },
      "source": [
        "# class Person:\n",
        "#   def __init__(self,n):\n",
        "#     self.name = n\n",
        "#   def __call__(self,x):\n",
        "#     print('test')\n",
        "\n",
        "#   def my_function(self):\n",
        "#     print('test')\n",
        "\n",
        "# p1 = Person('zahra')\n",
        "# p2 = Person('reza')\n"
      ],
      "execution_count": 30,
      "outputs": []
    },
    {
      "cell_type": "code",
      "metadata": {
        "id": "Jxx-w5e24TSB"
      },
      "source": [
        "# p1(13)"
      ],
      "execution_count": 29,
      "outputs": []
    },
    {
      "cell_type": "code",
      "metadata": {
        "id": "0zSgLr984Yv2"
      },
      "source": [
        "# p1.my_function()"
      ],
      "execution_count": 28,
      "outputs": []
    }
  ]
}